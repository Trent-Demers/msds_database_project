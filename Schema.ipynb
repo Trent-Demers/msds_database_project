{
 "cells": [
  {
   "cell_type": "code",
   "execution_count": 4,
   "id": "5adbd5aa",
   "metadata": {},
   "outputs": [],
   "source": [
    "import pandas as pd\n",
    "import sqlite3\n",
    "conn = sqlite3.connect(\"workout_app.db\")\n",
    "cursor = conn.cursor()"
   ]
  },
  {
   "cell_type": "markdown",
   "id": "58420cfc",
   "metadata": {},
   "source": [
    "Create _user_ table"
   ]
  },
  {
   "cell_type": "code",
   "execution_count": null,
   "id": "8ffc6406",
   "metadata": {},
   "outputs": [
    {
     "data": {
      "text/plain": [
       "<sqlite3.Cursor at 0x20df39704c0>"
      ]
     },
     "execution_count": 5,
     "metadata": {},
     "output_type": "execute_result"
    }
   ],
   "source": [
    "cursor.execute(\"\"\"CREATE TABLE user (\n",
    "               user_id INTEGER PRIMARY KEY AUTOINCREMENT,\n",
    "               first_name VARCHAR(50) NOT NULL,\n",
    "               last_name VARCHAR(50) NOT NULL,\n",
    "               address VARCHAR(50),\n",
    "               town VARCHAR(50),\n",
    "               state VARCHAR(50),\n",
    "               country VARCHAR(50),\n",
    "               email VARCHAR(50) UNIQUE NOT NULL,\n",
    "               phone_number VARCHAR(50),\n",
    "               password_hash VARCHAR(100) NOT NULL,\n",
    "               date_of_birth DATE,\n",
    "               height DECIMAL(5,2),\n",
    "               date_registered DATE DEFAULT CURRENT_DATE,\n",
    "               date_unregistered DATE,\n",
    "               registered BOOLEAN,\n",
    "               fitness_goal VARCHAR(50),\n",
    "               user_type VARCHAR(50)\n",
    "               )\"\"\")"
   ]
  },
  {
   "cell_type": "code",
   "execution_count": null,
   "id": "38b04481",
   "metadata": {},
   "outputs": [
    {
     "data": {
      "text/html": [
       "<div>\n",
       "<style scoped>\n",
       "    .dataframe tbody tr th:only-of-type {\n",
       "        vertical-align: middle;\n",
       "    }\n",
       "\n",
       "    .dataframe tbody tr th {\n",
       "        vertical-align: top;\n",
       "    }\n",
       "\n",
       "    .dataframe thead th {\n",
       "        text-align: right;\n",
       "    }\n",
       "</style>\n",
       "<table border=\"1\" class=\"dataframe\">\n",
       "  <thead>\n",
       "    <tr style=\"text-align: right;\">\n",
       "      <th></th>\n",
       "      <th>user_id</th>\n",
       "      <th>first_name</th>\n",
       "      <th>last_name</th>\n",
       "      <th>address</th>\n",
       "      <th>town</th>\n",
       "      <th>state</th>\n",
       "      <th>country</th>\n",
       "      <th>email</th>\n",
       "      <th>phone_number</th>\n",
       "      <th>password_hash</th>\n",
       "      <th>date_of_birth</th>\n",
       "      <th>height</th>\n",
       "      <th>date_registered</th>\n",
       "      <th>date_unregistered</th>\n",
       "      <th>registered</th>\n",
       "      <th>fitness_goal</th>\n",
       "      <th>user_type</th>\n",
       "    </tr>\n",
       "  </thead>\n",
       "  <tbody>\n",
       "  </tbody>\n",
       "</table>\n",
       "</div>"
      ],
      "text/plain": [
       "Empty DataFrame\n",
       "Columns: [user_id, first_name, last_name, address, town, state, country, email, phone_number, password_hash, date_of_birth, height, date_registered, date_unregistered, registered, fitness_goal, user_type]\n",
       "Index: []"
      ]
     },
     "execution_count": 7,
     "metadata": {},
     "output_type": "execute_result"
    }
   ],
   "source": [
    "cursor.executemany(\"\"\"INSERT INTO user (first_name, last_name, email, password_hash, phone_number, height, user_type, fitness_goal, date_registered, registered)\n",
    "VALUES (?, ?, ?, ?, ?, ?, ?, ?, ?, ?)\"\"\", [\n",
    "    ('John', 'Doe', 'john@email.com', 'hashed_pw_123', '555-0123', 70.0, 'regular', 'strength', '2025-01-15', 1),\n",
    "    ('Jane', 'Smith', 'jane@email.com', 'hashed_pw_456', '555-0456', 65.5, 'beginner', 'weight_loss', '2025-02-01', 1),\n",
    "    ('Mike', 'Johnson', 'mike@email.com', 'hashed_pw_789', '555-0789', 72.0, 'athlete', 'strength', '2025-03-10', 1)\n",
    "])\n",
    "conn.commit()\n",
    "\n",
    "pd.read_sql(\"SELECT * FROM user\", conn)\n"
   ]
  },
  {
   "cell_type": "markdown",
   "id": "babd1c5c",
   "metadata": {},
   "source": [
    "Create _user_weight_log_ table"
   ]
  },
  {
   "cell_type": "code",
   "execution_count": null,
   "id": "f499fdd5",
   "metadata": {},
   "outputs": [],
   "source": [
    "cursor.execute(\"\"\"CREATE TABLE IF NOT EXISTS user_weight_log (\n",
    "               log_id INTEGER PRIMARY KEY AUTOINCREMENT,\n",
    "               user_id INTEGER NOT NULL,\n",
    "               date DATE NOT NULL,\n",
    "               weight DECIMAL(5,2) NOT NULL,\n",
    "               neck DECIMAL(4,2),\n",
    "               waist DECIMAL(5,2),\n",
    "               hips DECIMAL(5,2),\n",
    "               body_fat_percentage DECIMAL(4,2),\n",
    "               notes TEXT,\n",
    "               FOREIGN KEY (user_id) REFERENCES user(user_id) ON DELETE CASCADE\n",
    "               )\"\"\")\n",
    "\n"
   ]
  },
  {
   "cell_type": "code",
   "execution_count": null,
   "id": "a01bd48e",
   "metadata": {},
   "outputs": [],
   "source": [
    "cursor.executemany(\"\"\"INSERT INTO user_weight_log (user_id, date, weight, waist, body_fat_percentage, notes)\n",
    "VALUES (?, ?, ?, ?, ?, ?)\"\"\", [\n",
    "    (1, '2025-10-01', 185.5, 34.0, 18.5, ''),\n",
    "    (1, '2025-10-08', 184.0, 33.5, 18.0, ''),\n",
    "    (2, '2025-10-01', 152.0, 28.0, 24.5, ''),\n",
    "    (2, '2025-10-08', 151.0, 27.5, 24.0, ''),\n",
    "    (3, '2025-10-01', 195.0, 32.0, 15.0, '')\n",
    "])\n",
    "\n",
    "\n",
    "pd.read_sql(\"SELECT * FROM user_weight_log\", conn)\n",
    "\n"
   ]
  },
  {
   "cell_type": "markdown",
   "id": "8fe0eeb8",
   "metadata": {},
   "source": [
    "Create _exercise_ table"
   ]
  },
  {
   "cell_type": "code",
   "execution_count": null,
   "id": "2afaae8e",
   "metadata": {},
   "outputs": [],
   "source": [
    "cursor.execute(\"\"\"CREATE TABLE IF NOT EXISTS exercise (\n",
    "               exercise_id INTEGER PRIMARY KEY AUTOINCREMENT,\n",
    "               name VARCHAR(100) UNIQUE NOT NULL,\n",
    "               type VARCHAR(50) NOT NULL,\n",
    "               subtype VARCHAR(50),\n",
    "               equipment VARCHAR(50),\n",
    "               difficulty INTEGER CHECK (difficulty BETWEEN 1 AND 5),\n",
    "               description TEXT,\n",
    "               demo_link VARCHAR(100)\n",
    "               )\"\"\")\n",
    "\n"
   ]
  },
  {
   "cell_type": "code",
   "execution_count": null,
   "id": "fb24f33c",
   "metadata": {},
   "outputs": [],
   "source": [
    "cursor.executemany(\"\"\"INSERT INTO exercise (name, type, subtype, equipment, difficulty, description, demo_link)\n",
    "VALUES (?, ?, ?, ?, ?, ?, ?)\"\"\", [\n",
    "    ('Barbell Bench Press', 'strength', 'compound', 'barbell', 3, 'Press bar from chest to full extension', 'https://youtube.com/bench-press'),\n",
    "    ('Barbell Back Squat', 'strength', 'compound', 'barbell', 4, 'Squat with bar on back', 'https://youtube.com/back-squat'),\n",
    "    ('Pull-ups', 'strength', 'compound', 'bodyweight', 4, 'Pull chin over bar', 'https://youtube.com/pullups'),\n",
    "    ('Running', 'cardio', 'steady_state', 'none', 2, 'Cardiovascular running exercise', None),\n",
    "    ('Plank', 'flexibility', 'isometric', 'bodyweight', 2, 'Hold straight body position', 'https://youtube.com/plank'),\n",
    "    ('Deadlift', 'strength', 'compound', 'barbell', 5, 'Lift bar from ground to standing', 'https://youtube.com/deadlift'),\n",
    "    ('Overhead Press', 'strength', 'compound', 'barbell', 4, 'Press bar overhead', 'https://youtube.com/ohp')\n",
    "])\n",
    "conn.commit()\n",
    "\n",
    "pd.read_sql(\"SELECT * FROM exercise\", conn)\n",
    "\n"
   ]
  },
  {
   "cell_type": "markdown",
   "id": "f5ea1a85",
   "metadata": {},
   "source": [
    "Create _target_ table\n"
   ]
  },
  {
   "cell_type": "code",
   "execution_count": null,
   "id": "f5511f74",
   "metadata": {},
   "outputs": [],
   "source": [
    "cursor.execute(\"\"\"CREATE TABLE IF NOT EXISTS target (\n",
    "               target_id INTEGER PRIMARY KEY AUTOINCREMENT,\n",
    "               target_name VARCHAR(50) UNIQUE NOT NULL,\n",
    "               target_group VARCHAR(50),\n",
    "               target_function VARCHAR(100)\n",
    "               )\"\"\")\n",
    "\n"
   ]
  },
  {
   "cell_type": "code",
   "execution_count": null,
   "id": "77219baf",
   "metadata": {},
   "outputs": [],
   "source": [
    "cursor.executemany(\"\"\"INSERT INTO target (target_name, target_group, target_function)\n",
    "VALUES (?, ?, ?)\"\"\", [\n",
    "    ('Chest', 'Upper Body', 'Push'),\n",
    "    ('Back', 'Upper Body', 'Pull'),\n",
    "    ('Quadriceps', 'Lower Body', 'Legs'),\n",
    "    ('Hamstrings', 'Lower Body', 'Legs'),\n",
    "    ('Core', 'Core', 'Stability'),\n",
    "    ('Biceps', 'Upper Body', 'Pull'),\n",
    "    ('Triceps', 'Upper Body', 'Push'),\n",
    "    ('Shoulders', 'Upper Body', 'Push'),\n",
    "    ('Glutes', 'Lower Body', 'Legs'),\n",
    "    ('Calves', 'Lower Body', 'Legs')\n",
    "])\n",
    "conn.commit()\n",
    "\n",
    "pd.read_sql(\"SELECT * FROM target\", conn)\n",
    "\n"
   ]
  },
  {
   "cell_type": "markdown",
   "id": "04b0fa0f",
   "metadata": {},
   "source": [
    "Code _exercise_target_association_ table"
   ]
  },
  {
   "cell_type": "code",
   "execution_count": null,
   "id": "370cf5a9",
   "metadata": {},
   "outputs": [],
   "source": [
    "cursor.execute(\"\"\"CREATE TABLE IF NOT EXISTS exercise_target_association (\n",
    "               association_id INTEGER PRIMARY KEY AUTOINCREMENT,\n",
    "               exercise_id INTEGER NOT NULL,\n",
    "               target_id INTEGER NOT NULL,\n",
    "               intensity VARCHAR(20) NOT NULL,\n",
    "               FOREIGN KEY (exercise_id) REFERENCES exercise(exercise_id) ON DELETE CASCADE,\n",
    "               FOREIGN KEY (target_id) REFERENCES target(target_id) ON DELETE CASCADE\n",
    "               )\"\"\")\n",
    "\n"
   ]
  },
  {
   "cell_type": "code",
   "execution_count": null,
   "id": "4df19751",
   "metadata": {},
   "outputs": [],
   "source": [
    "cursor.executemany(\"\"\"INSERT INTO exercise_target_association (exercise_id, target_id, intensity)\n",
    "VALUES (?, ?, ?)\"\"\", [\n",
    "    (1, 1, 'primary'),\n",
    "    (1, 7, 'secondary'),\n",
    "    (1, 8, 'secondary'),\n",
    "    (2, 3, 'primary'),\n",
    "    (2, 4, 'secondary'),\n",
    "    (2, 9, 'secondary'),\n",
    "    (3, 2, 'primary'),\n",
    "    (3, 6, 'secondary'),\n",
    "    (5, 5, 'primary'),\n",
    "    (6, 4, 'primary'),\n",
    "    (6, 2, 'secondary'),\n",
    "    (7, 8, 'primary'),\n",
    "    (7, 7, 'secondary')\n",
    "])\n",
    "conn.commit()\n",
    "\n",
    "pd.read_sql(\"SELECT * FROM exercise_target_association\", conn)\n"
   ]
  },
  {
   "cell_type": "markdown",
   "id": "3c3719b8",
   "metadata": {},
   "source": [
    "Create _user_pd_ table"
   ]
  },
  {
   "cell_type": "code",
   "execution_count": null,
   "id": "1dea1b4b",
   "metadata": {},
   "outputs": [],
   "source": [
    "cursor.execute(\"\"\"CREATE TABLE IF NOT EXISTS user_pd (\n",
    "               pr_id INTEGER PRIMARY KEY AUTOINCREMENT,\n",
    "               user_id INTEGER NOT NULL,\n",
    "               exercise_id INTEGER NOT NULL,\n",
    "               pr_type VARCHAR(20) NOT NULL,\n",
    "               pb_weight DECIMAL(6,2),\n",
    "               pb_reps INTEGER,\n",
    "               pb_time TIME,\n",
    "               pb_date DATE NOT NULL,\n",
    "               previous_pr DECIMAL(6,2),\n",
    "               notes TEXT,\n",
    "               FOREIGN KEY (user_id) REFERENCES user(user_id) ON DELETE CASCADE,\n",
    "               FOREIGN KEY (exercise_id) REFERENCES exercise(exercise_id) ON DELETE CASCADE\n",
    "               )\"\"\")\n",
    "\n"
   ]
  },
  {
   "cell_type": "code",
   "execution_count": null,
   "id": "21fce85b",
   "metadata": {},
   "outputs": [],
   "source": [
    "cursor.executemany(\"\"\"INSERT INTO personal_records (user_id, exercise_id, pr_type, pb_weight, pb_reps, pb_date, previous_pr, notes)\n",
    "VALUES (?, ?, ?, ?, ?, ?, ?, ?)\"\"\", [\n",
    "    (1, 1, 'weight', 225.0, 1, '2025-09-15', 185.0, ''),\n",
    "    (1, 1, 'weight', 185.0, 8, '2025-09-01', 0.0, ''),\n",
    "    (2, 3, 'reps', None, 15, '2025-10-01', None, ''),\n",
    "    (3, 2, 'weight', 405.0, 1, '2025-08-20', 365.0, ''),\n",
    "    (3, 6, 'weight', 495.0, 1, '2025-09-10', None, '')\n",
    "])\n",
    "\n",
    "\n",
    "pd.read_sql(\"SELECT * FROM personal_records\", conn)\n"
   ]
  },
  {
   "cell_type": "markdown",
   "id": "32f74c7e",
   "metadata": {},
   "source": [
    "Create _workout_sessions_ table\n"
   ]
  },
  {
   "cell_type": "code",
   "execution_count": null,
   "id": "c677d9e5",
   "metadata": {},
   "outputs": [],
   "source": [
    "\n",
    "cursor.execute(\"\"\"CREATE TABLE IF NOT EXISTS workout_sessions (\n",
    "               session_id INTEGER PRIMARY KEY AUTOINCREMENT,\n",
    "               user_id INTEGER NOT NULL,\n",
    "               session_name VARCHAR(100),\n",
    "               session_date DATE NOT NULL,\n",
    "               start_time TIME,\n",
    "               end_time TIME,\n",
    "               duration_minutes INTEGER,\n",
    "               bodyweight DECIMAL(5,2),\n",
    "               completed BOOLEAN DEFAULT 1,\n",
    "               FOREIGN KEY (user_id) REFERENCES user(user_id) ON DELETE CASCADE\n",
    "               )\"\"\")\n",
    "\n"
   ]
  },
  {
   "cell_type": "code",
   "execution_count": null,
   "id": "ffc1af6a",
   "metadata": {},
   "outputs": [],
   "source": [
    "cursor.executemany(\"\"\"INSERT INTO workout_sessions (user_id, session_name, session_date, start_time, duration_minutes, bodyweight, completed)\n",
    "VALUES (?, ?, ?, ?, ?, ?, ?)\"\"\", [\n",
    "    (1, 'Push Day', '2025-10-14', '18:00:00', 65, 185.5, 1),\n",
    "    (1, 'Pull Day', '2025-10-16', '07:00:00', 55, 185.0, 1),\n",
    "    (2, 'Full Body', '2025-10-15', '19:00:00', 45, 152.0, 1),\n",
    "    (3, 'Leg Day', '2025-10-14', '17:00:00', 75, 195.0, 1)\n",
    "])\n",
    "conn.commit()\n",
    "\n",
    "pd.read_sql(\"SELECT * FROM workout_sessions\", conn)\n",
    "\n"
   ]
  },
  {
   "cell_type": "markdown",
   "id": "1ca38d19",
   "metadata": {},
   "source": [
    "Create _session_exercises_ table\n"
   ]
  },
  {
   "cell_type": "code",
   "execution_count": null,
   "id": "6f3cdfa4",
   "metadata": {},
   "outputs": [],
   "source": [
    "cursor.execute(\"\"\"CREATE TABLE IF NOT EXISTS session_exercises (\n",
    "               session_exercise_id INTEGER PRIMARY KEY AUTOINCREMENT,\n",
    "               session_id INTEGER NOT NULL,\n",
    "               exercise_id INTEGER NOT NULL,\n",
    "               exercise_order INTEGER NOT NULL,\n",
    "               target_sets INTEGER,\n",
    "               target_reps INTEGER,\n",
    "               completed BOOLEAN DEFAULT 1,\n",
    "               FOREIGN KEY (session_id) REFERENCES workout_sessions(session_id) ON DELETE CASCADE,\n",
    "               FOREIGN KEY (exercise_id) REFERENCES exercise(exercise_id) ON DELETE CASCADE\n",
    "               )\"\"\")\n"
   ]
  },
  {
   "cell_type": "code",
   "execution_count": null,
   "id": "fd07f544",
   "metadata": {},
   "outputs": [],
   "source": [
    "\n",
    "cursor.executemany(\"\"\"INSERT INTO session_exercises (session_id, exercise_id, exercise_order, target_sets, target_reps, completed)\n",
    "VALUES (?, ?, ?, ?, ?, ?)\"\"\", [\n",
    "    (1, 1, 1, 3, 8, 1),\n",
    "    (1, 7, 2, 3, 12, 1),\n",
    "    (2, 3, 1, 4, 10, 1),\n",
    "    (2, 6, 2, 3, 5, 1),\n",
    "    (3, 2, 1, 4, 10, 1),\n",
    "    (3, 5, 2, 3, 60, 1),\n",
    "    (4, 2, 1, 5, 5, 1)\n",
    "])\n",
    "conn.commit()\n",
    "\n",
    "pd.read_sql(\"SELECT * FROM session_exercises\", conn)\n"
   ]
  },
  {
   "cell_type": "markdown",
   "id": "29541486",
   "metadata": {},
   "source": [
    "Create _sets_ table\n"
   ]
  },
  {
   "cell_type": "code",
   "execution_count": null,
   "id": "17533f1a",
   "metadata": {},
   "outputs": [],
   "source": [
    "cursor.execute(\"\"\"CREATE TABLE IF NOT EXISTS sets (\n",
    "               set_id INTEGER PRIMARY KEY AUTOINCREMENT,\n",
    "               session_exercise_id INTEGER NOT NULL,\n",
    "               set_number INTEGER NOT NULL,\n",
    "               weight DECIMAL(6,2),\n",
    "               reps INTEGER,\n",
    "               rpe INTEGER CHECK (rpe BETWEEN 1 AND 10),\n",
    "               completed BOOLEAN DEFAULT 1,\n",
    "               is_warmup BOOLEAN, \n",
    "               completion_time DATETIME,\n",
    "               FOREIGN KEY (session_exercise_id) REFERENCES session_exercises(session_exercise_id) ON DELETE CASCADE\n",
    "               )\"\"\")\n",
    "\n",
    "\n",
    "\n"
   ]
  },
  {
   "cell_type": "code",
   "execution_count": null,
   "id": "6a3f7818",
   "metadata": {},
   "outputs": [],
   "source": [
    "cursor.executemany(\"\"\"INSERT INTO sets (\n",
    "    session_exercise_id, set_number, weight, reps, rpe, completed, is_warmup, completion_time\n",
    ") VALUES (?, ?, ?, ?, ?, ?, ?, ?)\"\"\", [\n",
    "    (1, 1, 185.0, 10, 7, 1, 0, None),\n",
    "    (1, 2, 185.0, 9, 8, 1, 0, None),\n",
    "    (1, 3, 185.0, 8, 9, 1, 0, None),\n",
    "    (2, 1, 95.0, 12, 7, 1, 0, None),\n",
    "    (2, 2, 95.0, 11, 8, 1, 0, None),\n",
    "    (2, 3, 95.0, 10, 9, 1, 0, None),\n",
    "    (3, 1, None, 12, 8, 1, 0, None),\n",
    "    (3, 2, None, 10, 9, 1, 0, None),\n",
    "    (3, 3, None, 8, 9, 1, 0, None),\n",
    "    (3, 4, None, 6, 10, 1, 0, None),\n",
    "    (4, 1, 315.0, 5, 8, 1, 0, None),\n",
    "    (4, 2, 315.0, 5, 9, 1, 0, None),\n",
    "    (4, 3, 315.0, 5, 9, 1, 0, None),\n",
    "    (5, 1, 185.0, 10, 7, 1, 0, None),\n",
    "    (5, 2, 185.0, 10, 8, 1, 0, None),\n",
    "    (5, 3, 185.0, 10, 8, 1, 0, None),\n",
    "    (5, 4, 185.0, 10, 9, 1, 0, None),\n",
    "    (7, 1, 365.0, 5, 8, 1, 0, None),\n",
    "    (7, 2, 365.0, 5, 9, 1, 0, None),\n",
    "    (7, 3, 365.0, 5, 9, 1, 0, None),\n",
    "    (7, 4, 365.0, 5, 10, 1, 0, None),\n",
    "    (7, 5, 365.0, 5, 10, 1, 0, None)\n",
    "])\n",
    "conn.commit()\n",
    "\n",
    "cursor.executemany(\"\"\"INSERT INTO sets (session_exercise_id, set_number, weight, reps, rpe, completed, is_warmup, completion_time)\n",
    "VALUES (?, ?, ?, ?, ?, ?, ?, ?)\"\"\", [\n",
    "    (1, 1, 185.0, 10, 7, 1, 0, None),\n",
    "    (1, 2, 185.0, 9, 8, 1, 0, None),\n",
    "    ...\n",
    "])\n",
    "\n",
    "\n",
    "pd.read_sql(\"SELECT * FROM sets\", conn)"
   ]
  },
  {
   "cell_type": "markdown",
   "id": "cf9a124f",
   "metadata": {},
   "source": [
    "Create _goals_ table"
   ]
  },
  {
   "cell_type": "code",
   "execution_count": null,
   "id": "c0ba84be",
   "metadata": {},
   "outputs": [],
   "source": [
    "cursor.execute(\"\"\"CREATE TABLE IF NOT EXISTS goals (\n",
    "               goal_id INTEGER PRIMARY KEY AUTOINCREMENT,\n",
    "               user_id INTEGER NOT NULL,\n",
    "               goal_type VARCHAR(100) NOT NULL CHECK(goal_type IN ('PR','bodyweight','frequency','strength','endurance','consistency')),\n",
    "               goal_description TEXT,\n",
    "               target_value DECIMAL(8,2) NOT NULL,\n",
    "               current_value DECIMAL(8,2),\n",
    "               unit VARCHAR(20) NOT NULL,\n",
    "               exercise_id INTEGER,\n",
    "               start_date DATE NOT NULL,\n",
    "               target_date DATE,\n",
    "               status VARCHAR(50) DEFAULT 'active',\n",
    "               completion_date DATE,\n",
    "               FOREIGN KEY (user_id) REFERENCES user(user_id) ON DELETE CASCADE,\n",
    "               FOREIGN KEY (exercise_id) REFERENCES exercise(exercise_id) ON DELETE SET NULL\n",
    "               )\"\"\")\n",
    "\n"
   ]
  },
  {
   "cell_type": "code",
   "execution_count": null,
   "id": "e5ba9bc8",
   "metadata": {},
   "outputs": [],
   "source": [
    "cursor.executemany(\"\"\"INSERT INTO goals (user_id, goal_type, goal_description, target_value, current_value, unit, exercise_id, start_date, target_date, status)\n",
    "VALUES (?, ?, ?, ?, ?, ?, ?, ?, ?, ?)\"\"\", [\n",
    "    (1, 'PR', 'Bench press 225 lbs', 225.0, 185.0, 'lbs', 1, '2025-09-01', '2025-12-31', 'active'),\n",
    "    (2, 'bodyweight', 'Lose weight to 145 lbs', 145.0, 152.0, 'lbs', None, '2025-10-01', '2025-11-30', 'active'),\n",
    "    (1, 'frequency', 'Workout 30 days straight', 30.0, 18.0, 'days', None, '2025-10-01', '2025-11-01', 'active'),\n",
    "    (3, 'PR', 'Squat 405 lbs', 405.0, 365.0, 'lbs', 2, '2025-08-15', '2025-12-01', 'active'),\n",
    "    (2, 'PR', 'Do 20 consecutive pull-ups', 20.0, 15.0, 'reps', 3, '2025-09-15', '2026-03-15', 'active')\n",
    "])\n",
    "conn.commit()\n",
    "\n",
    "pd.read_sql(\"SELECT * FROM goals\", conn)\n",
    "\n"
   ]
  },
  {
   "cell_type": "markdown",
   "id": "790204db",
   "metadata": {},
   "source": [
    "Create _progress_ table"
   ]
  },
  {
   "cell_type": "code",
   "execution_count": null,
   "id": "112c0ca9",
   "metadata": {},
   "outputs": [],
   "source": [
    "cursor.execute(\"\"\"CREATE TABLE IF NOT EXISTS progress (\n",
    "               metric_id INTEGER PRIMARY KEY AUTOINCREMENT,\n",
    "               user_id INTEGER NOT NULL,\n",
    "               exercise_id INTEGER NOT NULL,\n",
    "               date DATE NOT NULL,\n",
    "               period_type VARCHAR(20) NOT NULL,\n",
    "               max_weight DECIMAL(6,2),\n",
    "               avg_weight DECIMAL(6,2),\n",
    "               total_volume DECIMAL(10,2),\n",
    "               workout_count INTEGER,\n",
    "               FOREIGN KEY (user_id) REFERENCES user(user_id) ON DELETE CASCADE,\n",
    "               FOREIGN KEY (exercise_id) REFERENCES exercise(exercise_id) ON DELETE CASCADE\n",
    "               )\"\"\")\n",
    "\n"
   ]
  },
  {
   "cell_type": "code",
   "execution_count": null,
   "id": "9fe0f2f6",
   "metadata": {},
   "outputs": [],
   "source": [
    "cursor.executemany(\"\"\"INSERT INTO progress (user_id, exercise_id, date, period_type, max_weight, avg_weight, total_volume, workout_count)\n",
    "VALUES (?, ?, ?, ?, ?, ?, ?, ?)\"\"\", [\n",
    "    (1, 1, '2025-10-07', 'weekly', 185.0, 180.0, 4440.0, 2),\n",
    "    (1, 1, '2025-10-14', 'weekly', 195.0, 187.5, 4995.0, 2),\n",
    "    (3, 2, '2025-10-14', 'weekly', 365.0, 365.0, 9125.0, 1),\n",
    "    (1, 3, '2025-10-16', 'weekly', None, None, 0.0, 1)\n",
    "])\n",
    "conn.commit()\n",
    "\n",
    "pd.read_sql(\"SELECT * FROM progress_metrics\", conn)\n",
    "\n"
   ]
  },
  {
   "cell_type": "markdown",
   "id": "68b03740",
   "metadata": {},
   "source": [
    "Create _validation_ table\n"
   ]
  },
  {
   "cell_type": "code",
   "execution_count": null,
   "id": "8c47b303",
   "metadata": {},
   "outputs": [],
   "source": [
    "cursor.execute(\"\"\"CREATE TABLE IF NOT EXISTS data_validation (\n",
    "               validation_id INTEGER PRIMARY KEY AUTOINCREMENT,\n",
    "               user_id INTEGER NOT NULL,\n",
    "               set_id INTEGER,\n",
    "               exercise_id INTEGER NOT NULL,\n",
    "               input_weight DECIMAL(6,2) NOT NULL,\n",
    "               expected_max DECIMAL(6,2),\n",
    "               flagged_as VARCHAR(20),\n",
    "               user_action VARCHAR(20),\n",
    "               timestamp TEXT DEFAULT (datetime('now')),\n",
    "               FOREIGN KEY (user_id) REFERENCES user(user_id) ON DELETE CASCADE,\n",
    "               FOREIGN KEY (set_id) REFERENCES sets(set_id) ON DELETE SET NULL,\n",
    "               FOREIGN KEY (exercise_id) REFERENCES exercise(exercise_id) ON DELETE CASCADE\n",
    "               )\"\"\")\n",
    "\n",
    "cursor.executemany(\"\"\"INSERT INTO data_validation (user_id, set_id, exercise_id, input_weight, expected_max, flagged_as, user_action, timestamp)\n",
    "VALUES (?, ?, ?, ?, ?, ?, ?, ?)\"\"\", [\n",
    "    (1, 15, 2, 275.0, 205.0, 'outlier', 'corrected', '2025-10-14 18:30:00'),\n",
    "    (2, None, 3, 95.5, 100.0, 'normal', 'verified', '2025-10-15 19:15:00')\n",
    "])\n",
    "conn.commit()\n",
    "\n",
    "pd.read_sql(\"SELECT * FROM data_validation\", conn)\n",
    "\n"
   ]
  },
  {
   "cell_type": "markdown",
   "id": "33dabb8c",
   "metadata": {},
   "source": [
    "Verification"
   ]
  },
  {
   "cell_type": "code",
   "execution_count": null,
   "id": "546c6009",
   "metadata": {},
   "outputs": [],
   "source": [
    "cursor.execute(\"SELECT name FROM sqlite_master WHERE type='table'\")\n",
    "tables = cursor.fetchall()\n",
    "print(f\"Total tables: {len(tables)}\")\n",
    "for table in tables:\n",
    "    cursor.execute(f\"SELECT COUNT(*) FROM {table[0]}\")\n",
    "    count = cursor.fetchone()[0]\n",
    "    print(f\"{table[0]}: {count} rows\")\n",
    "\n",
    "conn.close()"
   ]
  }
 ],
 "metadata": {
  "kernelspec": {
   "display_name": "msds534",
   "language": "python",
   "name": "python3"
  },
  "language_info": {
   "codemirror_mode": {
    "name": "ipython",
    "version": 3
   },
   "file_extension": ".py",
   "mimetype": "text/x-python",
   "name": "python",
   "nbconvert_exporter": "python",
   "pygments_lexer": "ipython3",
   "version": "3.13.7"
  }
 },
 "nbformat": 4,
 "nbformat_minor": 5
}
