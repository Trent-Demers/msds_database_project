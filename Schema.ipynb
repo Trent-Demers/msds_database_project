{
 "cells": [
  {
   "cell_type": "code",
   "execution_count": 4,
   "id": "5adbd5aa",
   "metadata": {},
   "outputs": [],
   "source": [
    "import pandas as pd\n",
    "import sqlite3\n",
    "conn = sqlite3.connect(\"workout_app.db\")\n",
    "cursor = conn.cursor()"
   ]
  },
  {
   "cell_type": "markdown",
   "id": "58420cfc",
   "metadata": {},
   "source": [
    "Create _user_ table"
   ]
  },
  {
   "cell_type": "code",
   "execution_count": 5,
   "id": "8ffc6406",
   "metadata": {},
   "outputs": [
    {
     "data": {
      "text/plain": [
       "<sqlite3.Cursor at 0x20df39704c0>"
      ]
     },
     "execution_count": 5,
     "metadata": {},
     "output_type": "execute_result"
    }
   ],
   "source": [
    "cursor.execute(\"\"\"CREATE TABLE user (\n",
    "               user_id INTEGER PRIMARY KEY AUTOINCREMENT,\n",
    "               first_name VARCHAR(50) NOT NULL,\n",
    "               last_name VARCHAR(50) NOT NULL,\n",
    "               address VARCHAR(50),\n",
    "               town VARCHAR(50),\n",
    "               state VARCHAR(50),\n",
    "               country VARCHAR(50),\n",
    "               email VARCHAR(50) UNIQUE NOT NULL,\n",
    "               phone_number VARCHAR(50),\n",
    "               password_hash VARCHAR(50) NOT NULL,\n",
    "               date_of_birth DATE,\n",
    "               height DECIMAL(5,2),\n",
    "               date_registered DATE,\n",
    "               date_unregistered DATE,\n",
    "               registered BOOLEAN,\n",
    "               fitness_goal VARCHAR(50),\n",
    "               user_type VARCHAR(50)\n",
    "               )\"\"\")"
   ]
  },
  {
   "cell_type": "code",
   "execution_count": 7,
   "id": "38b04481",
   "metadata": {},
   "outputs": [
    {
     "data": {
      "text/html": [
       "<div>\n",
       "<style scoped>\n",
       "    .dataframe tbody tr th:only-of-type {\n",
       "        vertical-align: middle;\n",
       "    }\n",
       "\n",
       "    .dataframe tbody tr th {\n",
       "        vertical-align: top;\n",
       "    }\n",
       "\n",
       "    .dataframe thead th {\n",
       "        text-align: right;\n",
       "    }\n",
       "</style>\n",
       "<table border=\"1\" class=\"dataframe\">\n",
       "  <thead>\n",
       "    <tr style=\"text-align: right;\">\n",
       "      <th></th>\n",
       "      <th>user_id</th>\n",
       "      <th>first_name</th>\n",
       "      <th>last_name</th>\n",
       "      <th>address</th>\n",
       "      <th>town</th>\n",
       "      <th>state</th>\n",
       "      <th>country</th>\n",
       "      <th>email</th>\n",
       "      <th>phone_number</th>\n",
       "      <th>password_hash</th>\n",
       "      <th>date_of_birth</th>\n",
       "      <th>height</th>\n",
       "      <th>date_registered</th>\n",
       "      <th>date_unregistered</th>\n",
       "      <th>registered</th>\n",
       "      <th>fitness_goal</th>\n",
       "      <th>user_type</th>\n",
       "    </tr>\n",
       "  </thead>\n",
       "  <tbody>\n",
       "  </tbody>\n",
       "</table>\n",
       "</div>"
      ],
      "text/plain": [
       "Empty DataFrame\n",
       "Columns: [user_id, first_name, last_name, address, town, state, country, email, phone_number, password_hash, date_of_birth, height, date_registered, date_unregistered, registered, fitness_goal, user_type]\n",
       "Index: []"
      ]
     },
     "execution_count": 7,
     "metadata": {},
     "output_type": "execute_result"
    }
   ],
   "source": [
    "pd.read_sql(\"SELECT * FROM user\", conn)"
   ]
  },
  {
   "cell_type": "markdown",
   "id": "babd1c5c",
   "metadata": {},
   "source": [
    "Create _user_weight_log_ table"
   ]
  }
 ],
 "metadata": {
  "kernelspec": {
   "display_name": "msds534",
   "language": "python",
   "name": "python3"
  },
  "language_info": {
   "codemirror_mode": {
    "name": "ipython",
    "version": 3
   },
   "file_extension": ".py",
   "mimetype": "text/x-python",
   "name": "python",
   "nbconvert_exporter": "python",
   "pygments_lexer": "ipython3",
   "version": "3.13.7"
  }
 },
 "nbformat": 4,
 "nbformat_minor": 5
}
